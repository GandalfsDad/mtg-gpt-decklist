{
 "cells": [
  {
   "cell_type": "code",
   "execution_count": 1,
   "metadata": {},
   "outputs": [],
   "source": [
    "from src.util.data import get_data\n",
    "from src.card.card import Card\n",
    "from src.card.symbol import SymbolMapper\n",
    "from src.model.embedding import get_embeddings, EmbeddingLookup\n",
    "import openai\n",
    "import os \n",
    "import numpy as np\n",
    "from tqdm import tqdm"
   ]
  },
  {
   "cell_type": "code",
   "execution_count": 2,
   "metadata": {},
   "outputs": [
    {
     "name": "stderr",
     "output_type": "stream",
     "text": [
      "100%|██████████| 28578/28578 [00:48<00:00, 593.62it/s]\n"
     ]
    }
   ],
   "source": [
    "res = get_data('https://data.scryfall.io/oracle-cards/oracle-cards-20230416210326.json')\n",
    "all_cards = [Card(data, processed=False) for data in tqdm(res) if data['object']=='card' and data['lang']=='en']\n",
    "sm = SymbolMapper()"
   ]
  },
  {
   "cell_type": "code",
   "execution_count": 3,
   "metadata": {},
   "outputs": [
    {
     "name": "stderr",
     "output_type": "stream",
     "text": [
      "100%|██████████| 28568/28568 [00:00<00:00, 32152.77it/s]\n"
     ]
    }
   ],
   "source": [
    "#check if embeddings lookup exists\n",
    "if os.path.exists('bin/embeddings.json'):\n",
    "    model_ins = [sm.map(str(card)) for card in tqdm(all_cards)]\n",
    "    el = EmbeddingLookup()\n",
    "    el.load('bin/embeddings.json')\n",
    "else:\n",
    "    model_ins = [sm.map(str(card)) for card in tqdm(all_cards)]\n",
    "    embs = get_embeddings(model_ins,1000)\n",
    "    el = EmbeddingLookup([card.id for card in all_cards], embs)\n",
    "    el.save('bin/embeddings.json')"
   ]
  },
  {
   "cell_type": "code",
   "execution_count": 4,
   "metadata": {},
   "outputs": [],
   "source": [
    "lookup = \"A deck that features Phyrexian creatures exclusively. Plenty of sacrifice and infect.\"\n",
    "\n",
    "similar = el.get_similar(lookup, top_n = 75)\n",
    "joinedStrings = '\\n'.join([sc for sc,c in zip(model_ins,all_cards) if c.id in similar])"
   ]
  },
  {
   "cell_type": "code",
   "execution_count": 5,
   "metadata": {},
   "outputs": [],
   "source": [
    "chatPrompt = \"\"\"You are an assistant that helps build magic the gathering decks. \n",
    "You will be prompted with a desired type of deck and a list of cards suitable for the deck. \n",
    "The deck should be 60 cards, with no more than 4 copies of any card.\n",
    "You should include appropriate basic lands (even if they are not in the list of cards.\n",
    "You should include 24 lands total.\n",
    "You should include 36 non-land cards total.\n",
    "You should respond only with the card names.\n",
    "You should carefully consider if you have the correct number of cards.\n",
    "At the end of the prompt you should describe why the cards are good for the deck.\n",
    "\"\"\"\n",
    "\n",
    "prompt = f\"Deck Description: {lookup} \\nCards: {joinedStrings}\""
   ]
  },
  {
   "cell_type": "code",
   "execution_count": 6,
   "metadata": {},
   "outputs": [],
   "source": [
    "openai.api_key = os.getenv('OPENAI_API_KEY')\n",
    "completion = openai.ChatCompletion.create(\n",
    "  model=\"gpt-4\",\n",
    "  messages=[\n",
    "    {\"role\": \"system\", \"content\": chatPrompt},\n",
    "    {\"role\": \"user\", \"content\": prompt}\n",
    "  ],\n",
    "  max_tokens=1024,\n",
    ")"
   ]
  },
  {
   "cell_type": "code",
   "execution_count": 7,
   "metadata": {},
   "outputs": [
    {
     "name": "stdout",
     "output_type": "stream",
     "text": [
      "4x Phyrexian Juggernaut\n",
      "4x Plague Stinger\n",
      "4x Phyrexian War Beast\n",
      "4x Pestilent Syphoner\n",
      "4x Blight Pile\n",
      "3x Phyrexian Reaper\n",
      "3x Reaper of Sheoldred\n",
      "2x Phyrexian Devourer\n",
      "4x Plague Myr\n",
      "\n",
      "4x Phyrexian Tower\n",
      "20x Swamp\n",
      "\n",
      "This deck focuses on Phyrexian creatures and has plenty of sacrifice and infect mechanics. Key creatures such as Phyrexian Juggernaut and Plague Stinger deal infect damage to opponents, which can be game-ending if they receive a total of 10 poison counters. The Phyrexian War Beast and Pestilent Syphoner will wreak havoc on your opponent's life total and creatures, and cards like Blight Pile, Reaper of Sheoldred, and Phyrexian Reaper provide utility and consistent damage output.\n",
      "\n",
      "Phyrexian Tower serves as an efficient land that provides a sacrifice outlet and mana ramp, which is much needed in a deck with a higher average mana cost. A solid amount of Swamp cards will ensure you hit your land drops consistently.\n"
     ]
    }
   ],
   "source": [
    "print(completion['choices'][0]['message']['content'])"
   ]
  },
  {
   "cell_type": "code",
   "execution_count": null,
   "metadata": {},
   "outputs": [],
   "source": []
  }
 ],
 "metadata": {
  "kernelspec": {
   "display_name": "base",
   "language": "python",
   "name": "python3"
  },
  "language_info": {
   "codemirror_mode": {
    "name": "ipython",
    "version": 3
   },
   "file_extension": ".py",
   "mimetype": "text/x-python",
   "name": "python",
   "nbconvert_exporter": "python",
   "pygments_lexer": "ipython3",
   "version": "3.10.10"
  },
  "orig_nbformat": 4
 },
 "nbformat": 4,
 "nbformat_minor": 2
}
